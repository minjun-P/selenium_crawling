{
 "cells": [
  {
   "cell_type": "markdown",
   "metadata": {},
   "source": [
    "## git에 업로드~"
   ]
  },
  {
   "cell_type": "markdown",
   "metadata": {},
   "source": [
    "# 0.함수 정의 - 테이블에서 데이터 추출"
   ]
  },
  {
   "cell_type": "code",
   "execution_count": 5,
   "metadata": {},
   "outputs": [],
   "source": [
    "def choochool(result_list,table):\n",
    "    #테이블에서 행 추출 \n",
    "    rows = table.find_elements_by_css_selector('tr')\n",
    "    for row in rows:\n",
    "    # 내용 없는 행 제거\n",
    "        if len(row.text)>0:\n",
    "            new_list = row.text.split(' ')\n",
    "            #왜 try except을 쓰는가? elem이 있는 것도 있고 없는 것도 있는 친구에만 조건문 진행을 원함\n",
    "            #그러니깐 그냥 오류 뜨면 무시하고 진행하고 오류 안 뜰 때 즉, 내가 원하는 거 찾을 때만 원하는 코드 실행되도록\n",
    "            try:\n",
    "                if row.find_element_by_css_selctor('td:nth-child(3) img').get_attribute('alt') =='하락':\n",
    "                    new_list[2]='-'+new_list[2]\n",
    "            except:\n",
    "                pass\n",
    "        result_list.append(new_list)\n",
    "    return result_list"
   ]
  },
  {
   "cell_type": "markdown",
   "metadata": {},
   "source": [
    "# 1.함수 정의 - 메인 크롤링(페이지 이동 및 테이블 크롤링, df 출력"
   ]
  },
  {
   "cell_type": "code",
   "execution_count": 20,
   "metadata": {},
   "outputs": [],
   "source": [
    "def main_crawling():\n",
    "    #시간 측정\n",
    "    start = time.time()\n",
    "    #페이지 이동\n",
    "    last_page = driver.find_element_by_css_selector('td.pgRR > a').get_attribute('href').split('=')[-1]\n",
    "    #빈 리스트 만들기\n",
    "    result_list = []\n",
    "    progress = 10\n",
    "    for i in range(1,3):   #int(last_page)+1\n",
    "        #버튼 선택하기 및 클릭하기\n",
    "        page_button_list = driver.find_element_by_css_selector('tbody:nth-child(2)')\n",
    "        page_button = page_button_list.find_element_by_link_text('{}'.format(i))\n",
    "        page_button.click()\n",
    "        #데이터 뽑을 테이블 요소 가져오기\n",
    "        table = driver.find_element_by_css_selector('tbody')\n",
    "        #리스트에 추가 - 함수 choochool활용\n",
    "        result_list = choochool(result_list,table)\n",
    "        if (i/int(last_page)) >= progress/100: \n",
    "            print(str(round(i/int(last_page)*100))+'% 진행 / 경과시간 :'+str(time.time()-start))\n",
    "            progress +=10\n",
    "        if i%10==0:\n",
    "            page_button_list = driver.find_element_by_css_selector('tbody:nth-child(2)')\n",
    "            page_button = page_button_list.find_element_by_link_text('다음')\n",
    "            page_button.click()\n",
    "    df = pd.DataFrame(result_list[1:],columns=result_list[0]).set_index('날짜')\n",
    "    return df\n"
   ]
  },
  {
   "cell_type": "markdown",
   "metadata": {},
   "source": [
    "# 2.최종 실행 코드"
   ]
  },
  {
   "cell_type": "code",
   "execution_count": 21,
   "metadata": {
    "scrolled": false
   },
   "outputs": [
    {
     "name": "stdout",
     "output_type": "stream",
     "text": [
      "코드? 068270\n",
      "10.258018493652344만큼 소요됐습니다\n",
      "                 종가     전일비       시가       고가       저가        거래량\n",
      "날짜                                                               \n",
      "날짜               종가     전일비       시가       고가       저가        거래량\n",
      "2021.04.30  268,000     500  270,000  273,000  265,000    374,643\n",
      "2021.04.29  268,500   1,500  270,500  277,000  264,000  1,036,746\n",
      "2021.04.28  270,000   4,000  272,500  282,000  266,000  1,371,738\n",
      "2021.04.27  274,000  11,000  285,000  285,500  273,500  1,344,606\n",
      "2021.04.26  285,000   3,000  288,000  288,500  284,000    716,990\n",
      "2021.04.26  285,000   3,000  288,000  288,500  284,000    716,990\n",
      "2021.04.26  285,000   3,000  288,000  288,500  284,000    716,990\n",
      "2021.04.26  285,000   3,000  288,000  288,500  284,000    716,990\n",
      "2021.04.23  288,000       0  288,000  291,000  285,000    521,531\n",
      "2021.04.22  288,000   2,500  292,000  294,500  287,000    772,035\n",
      "2021.04.21  290,500   9,500  295,500  297,500  290,000  1,004,575\n",
      "2021.04.20  300,000   9,500  306,500  308,000  299,500  1,058,058\n",
      "2021.04.19  309,500   1,500  308,000  313,500  305,500    569,414\n",
      "2021.04.19  309,500   1,500  308,000  313,500  305,500    569,414\n",
      "날짜               종가     전일비       시가       고가       저가        거래량\n",
      "날짜               종가     전일비       시가       고가       저가        거래량\n",
      "2021.04.16  308,000   1,500  310,500  312,000  306,500    378,139\n",
      "2021.04.15  309,500   5,500  314,500  315,000  309,000    547,071\n",
      "2021.04.14  315,000   1,000  317,000  319,000  313,000    407,935\n",
      "2021.04.13  316,000   5,500  312,500  319,000  309,000    573,517\n",
      "2021.04.12  310,500   1,000  309,500  311,000  306,000    342,305\n",
      "2021.04.12  310,500   1,000  309,500  311,000  306,000    342,305\n",
      "2021.04.12  310,500   1,000  309,500  311,000  306,000    342,305\n",
      "2021.04.12  310,500   1,000  309,500  311,000  306,000    342,305\n",
      "2021.04.09  309,500   2,000  312,500  314,500  309,000    347,094\n",
      "2021.04.08  311,500   5,500  306,500  311,500  303,000    486,544\n",
      "2021.04.07  306,000   2,500  304,000  312,000  303,000    458,016\n",
      "2021.04.06  303,500   4,500  309,000  313,000  302,000    634,988\n",
      "2021.04.05  308,000  12,500  318,000  319,000  307,000    716,852\n",
      "2021.04.05  308,000  12,500  318,000  319,000  307,000    716,852\n"
     ]
    }
   ],
   "source": [
    "# 임포트\n",
    "from selenium import webdriver\n",
    "import pandas as pd\n",
    "import time\n",
    "#시간 쟤기\n",
    "start = time.time()\n",
    "#코드 입력 및 url 설정\n",
    "url = 'https://finance.naver.com/item/sise.nhn?code='\n",
    "code = input('코드? ')\n",
    "final_url = url+code\n",
    "#크롬 동작 및 url 이동\n",
    "driver = webdriver.Chrome('chromedriver')\n",
    "driver.get(final_url)\n",
    "#iframe 내부로 이동\n",
    "daily_table = driver.find_element_by_css_selector('#content > div.section.inner_sub > iframe:nth-child(4)')\n",
    "driver.switch_to.frame(daily_table)\n",
    "\n",
    "result = main_crawling()\n",
    "print(str(time.time() - start)+'만큼 소요됐습니다')\n",
    "print(result)"
   ]
  }
 ],
 "metadata": {
  "kernelspec": {
   "display_name": "Python 3",
   "language": "python",
   "name": "python3"
  },
  "language_info": {
   "codemirror_mode": {
    "name": "ipython",
    "version": 3
   },
   "file_extension": ".py",
   "mimetype": "text/x-python",
   "name": "python",
   "nbconvert_exporter": "python",
   "pygments_lexer": "ipython3",
   "version": "3.8.5"
  }
 },
 "nbformat": 4,
 "nbformat_minor": 4
}
